{
 "cells": [
  {
   "cell_type": "markdown",
   "id": "68929ceb",
   "metadata": {},
   "source": [
    "# Numpy Library\n",
    "The notebook presents a very brief introduction to the Numpy Library\n",
    "The Numpy Library is often used for the implementation of basic to complex Machine Learning Implementations"
   ]
  },
  {
   "cell_type": "code",
   "execution_count": 52,
   "id": "dc36c20d",
   "metadata": {},
   "outputs": [],
   "source": [
    "import numpy as np\n",
    "\n",
    "a = np.random.randn(5)\n"
   ]
  },
  {
   "cell_type": "markdown",
   "id": "5cf66092",
   "metadata": {},
   "source": [
    "the np.random.randn(5) command creates a data structure that is a random sample of 5 values from the uniform guassian distribution with the mean at zero and unifrom distribution from -1 till 1. "
   ]
  },
  {
   "cell_type": "code",
   "execution_count": 53,
   "id": "f09fc6e4",
   "metadata": {},
   "outputs": [
    {
     "data": {
      "text/plain": [
       "array([0.73493653, 0.90059485, 0.11364175, 1.06141116, 0.75269699])"
      ]
     },
     "execution_count": 53,
     "metadata": {},
     "output_type": "execute_result"
    }
   ],
   "source": [
    "a\n"
   ]
  },
  {
   "cell_type": "code",
   "execution_count": 54,
   "id": "9ccda6ec",
   "metadata": {},
   "outputs": [
    {
     "data": {
      "text/plain": [
       "(5,)"
      ]
     },
     "execution_count": 54,
     "metadata": {},
     "output_type": "execute_result"
    }
   ],
   "source": [
    "a.shape\n"
   ]
  },
  {
   "cell_type": "markdown",
   "id": "ba669e65",
   "metadata": {},
   "source": [
    "This is called a rank one array. Keep in mind that this rank one array is neither a row vector or a column vector. Due to this if you try and transpose this array, you will get the same array back in exactly the same dimensions. "
   ]
  },
  {
   "cell_type": "code",
   "execution_count": 55,
   "id": "18cd3bca",
   "metadata": {},
   "outputs": [
    {
     "data": {
      "text/plain": [
       "array([0.73493653, 0.90059485, 0.11364175, 1.06141116, 0.75269699])"
      ]
     },
     "execution_count": 55,
     "metadata": {},
     "output_type": "execute_result"
    }
   ],
   "source": [
    "a.T\n"
   ]
  },
  {
   "cell_type": "markdown",
   "id": "456a9b5d",
   "metadata": {},
   "source": [
    "And if we find the product of array a with its transpose then rather than getting a matrix/array, we will be getting a number. "
   ]
  },
  {
   "cell_type": "code",
   "execution_count": 56,
   "id": "ba953caa",
   "metadata": {},
   "outputs": [
    {
     "name": "stdout",
     "output_type": "stream",
     "text": [
      "3.0572636447554045\n"
     ]
    }
   ],
   "source": [
    "print(np.dot(a, a.T))\n"
   ]
  },
  {
   "cell_type": "markdown",
   "id": "6525ff47",
   "metadata": {},
   "source": [
    "Compared to this if we explicitly declare the array a to have a complete dimension then it is a very different story. "
   ]
  },
  {
   "cell_type": "code",
   "execution_count": 57,
   "id": "42a3ea14",
   "metadata": {},
   "outputs": [],
   "source": [
    "a = np.random.randn(5,1)\n"
   ]
  },
  {
   "cell_type": "code",
   "execution_count": 58,
   "id": "dff7abf6",
   "metadata": {},
   "outputs": [
    {
     "data": {
      "text/plain": [
       "array([[ 0.60353888],\n",
       "       [ 1.43756302],\n",
       "       [-1.2367828 ],\n",
       "       [-0.0210852 ],\n",
       "       [ 0.47765206]])"
      ]
     },
     "execution_count": 58,
     "metadata": {},
     "output_type": "execute_result"
    }
   ],
   "source": [
    "a\n"
   ]
  },
  {
   "cell_type": "code",
   "execution_count": 59,
   "id": "3b034a7f",
   "metadata": {},
   "outputs": [
    {
     "data": {
      "text/plain": [
       "(5, 1)"
      ]
     },
     "execution_count": 59,
     "metadata": {},
     "output_type": "execute_result"
    }
   ],
   "source": [
    "a.shape\n"
   ]
  },
  {
   "cell_type": "code",
   "execution_count": 60,
   "id": "27f3e45e",
   "metadata": {},
   "outputs": [
    {
     "data": {
      "text/plain": [
       "array([[ 0.60353888,  1.43756302, -1.2367828 , -0.0210852 ,  0.47765206]])"
      ]
     },
     "execution_count": 60,
     "metadata": {},
     "output_type": "execute_result"
    }
   ],
   "source": [
    "a.T\n"
   ]
  },
  {
   "cell_type": "code",
   "execution_count": 61,
   "id": "ed863b52",
   "metadata": {},
   "outputs": [
    {
     "name": "stdout",
     "output_type": "stream",
     "text": [
      "[[ 3.64259185e-01  8.67625179e-01 -7.46446512e-01 -1.27257364e-02\n",
      "   2.88281591e-01]\n",
      " [ 8.67625179e-01  2.06658743e+00 -1.77795321e+00 -3.03112996e-02\n",
      "   6.86654935e-01]\n",
      " [-7.46446512e-01 -1.77795321e+00  1.52963170e+00  2.60778092e-02\n",
      "  -5.90751852e-01]\n",
      " [-1.27257364e-02 -3.03112996e-02  2.60778092e-02  4.44585538e-04\n",
      "  -1.00713878e-02]\n",
      " [ 2.88281591e-01  6.86654935e-01 -5.90751852e-01 -1.00713878e-02\n",
      "   2.28151490e-01]]\n"
     ]
    }
   ],
   "source": [
    "print(np.dot(a, a.T))\n"
   ]
  },
  {
   "cell_type": "markdown",
   "id": "a081d5e7",
   "metadata": {},
   "source": [
    "An important concept over here is to implement programming assertions to ensure that any vector coming in to your model is of the desired dimension. For example, for our implementation we need an a vector that needs to have the dimension (5, 1). to ensure that the code does not run into trouble if a different dimension of A is passed on an assertion can be made. "
   ]
  },
  {
   "cell_type": "code",
   "execution_count": 62,
   "id": "621bf4e3",
   "metadata": {},
   "outputs": [],
   "source": [
    "assert (a.shape == (5,1))\n"
   ]
  },
  {
   "cell_type": "markdown",
   "id": "f086cde0",
   "metadata": {},
   "source": [
    "if the assertion is false, python will prompt an assertion error"
   ]
  },
  {
   "cell_type": "code",
   "execution_count": 63,
   "id": "5ea8ebc0",
   "metadata": {},
   "outputs": [
    {
     "ename": "AssertionError",
     "evalue": "",
     "output_type": "error",
     "traceback": [
      "\u001b[1;31m---------------------------------------------------------------------------\u001b[0m",
      "\u001b[1;31mAssertionError\u001b[0m                            Traceback (most recent call last)",
      "Cell \u001b[1;32mIn[63], line 1\u001b[0m\n\u001b[1;32m----> 1\u001b[0m \u001b[38;5;28;01massert\u001b[39;00m (a\u001b[38;5;241m.\u001b[39mshape \u001b[38;5;241m==\u001b[39m (\u001b[38;5;241m2\u001b[39m,\u001b[38;5;241m1\u001b[39m))\n",
      "\u001b[1;31mAssertionError\u001b[0m: "
     ]
    }
   ],
   "source": [
    "assert (a.shape == (2,1))\n"
   ]
  },
  {
   "cell_type": "markdown",
   "id": "21de25d5",
   "metadata": {},
   "source": [
    "### Reshaping of Arrays\n",
    "Another useful type of operation is reshaping of arrays. The most flexible way of doing this is with the reshape method. For example, if you want to put the numbers 1 through 9 in a  3×3\n",
    "  grid, you can do the following:"
   ]
  },
  {
   "cell_type": "code",
   "execution_count": 64,
   "id": "0811921b",
   "metadata": {},
   "outputs": [
    {
     "name": "stdout",
     "output_type": "stream",
     "text": [
      "[[1 2 3]\n",
      " [4 5 6]\n",
      " [7 8 9]]\n"
     ]
    }
   ],
   "source": [
    "grid = np.arange(1, 10).reshape((3, 3))\n",
    "print(grid)\n"
   ]
  },
  {
   "cell_type": "markdown",
   "id": "d9e34954",
   "metadata": {},
   "source": [
    "Another common reshaping pattern is the conversion of a one-dimensional array into a two-dimensional row or column matrix.\n",
    "This can be done with the ``reshape`` method, or more easily done by making use of the ``newaxis`` keyword within a slice operation:"
   ]
  },
  {
   "cell_type": "code",
   "execution_count": 65,
   "id": "5ba6c65c",
   "metadata": {},
   "outputs": [],
   "source": [
    "a = np.random.randn(5)\n"
   ]
  },
  {
   "cell_type": "code",
   "execution_count": 66,
   "id": "ba17d788",
   "metadata": {},
   "outputs": [
    {
     "name": "stdout",
     "output_type": "stream",
     "text": [
      "(5,)\n"
     ]
    }
   ],
   "source": [
    "print(a.shape)\n"
   ]
  },
  {
   "cell_type": "code",
   "execution_count": 67,
   "id": "a5cb3e96",
   "metadata": {},
   "outputs": [],
   "source": [
    "a = a.reshape(5,1)\n"
   ]
  },
  {
   "cell_type": "code",
   "execution_count": 68,
   "id": "90801685",
   "metadata": {},
   "outputs": [
    {
     "name": "stdout",
     "output_type": "stream",
     "text": [
      "(5, 1)\n"
     ]
    }
   ],
   "source": [
    "print(a.shape)\n"
   ]
  }
 ],
 "metadata": {
  "kernelspec": {
   "display_name": "Python 3 (ipykernel)",
   "language": "python",
   "name": "python3"
  },
  "language_info": {
   "codemirror_mode": {
    "name": "ipython",
    "version": 3
   },
   "file_extension": ".py",
   "mimetype": "text/x-python",
   "name": "python",
   "nbconvert_exporter": "python",
   "pygments_lexer": "ipython3",
   "version": "3.11.5"
  }
 },
 "nbformat": 4,
 "nbformat_minor": 5
}
