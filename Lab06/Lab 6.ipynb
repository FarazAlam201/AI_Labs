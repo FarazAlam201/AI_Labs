{
 "cells": [
  {
   "cell_type": "markdown",
   "id": "2399ee36",
   "metadata": {},
   "source": [
    "Task 1: \n",
    "\n",
    "Implement Hill climbing solutions for the given two function. The Hill Climbing solution should\n",
    "provide values for the x and y parameters where the value of the function maximizes. The figures\n",
    "also provide the range of values the solution exist within. Restrict your search within the domain\n",
    "of the variables for a quicker response. \n",
    "\n",
    "f(x,y)=e-(x2+y2)\n",
    "\n"
   ]
  },
  {
   "cell_type": "code",
   "execution_count": 20,
   "id": "42ce0190",
   "metadata": {},
   "outputs": [
    {
     "name": "stdout",
     "output_type": "stream",
     "text": [
      "0.01086539742366887 -0.004430470337771823 0.9998623235496843\n"
     ]
    }
   ],
   "source": [
    "import random\n",
    "from math import e\n",
    "\n",
    "def evaluate(x, y):\n",
    "    return e**(-(x**2 + y**2))\n",
    "\n",
    "step = [-0.025, +0.025]\n",
    "\n",
    "def neighbor(x, y, prev_eval):\n",
    "    current_x, current_y = x, y\n",
    "    for i in range(2):\n",
    "        for value in step:\n",
    "            x += value if i == 0 else 0\n",
    "            y += value if i == 1 else 0\n",
    "            neigh_eval = evaluate(x, y)\n",
    "            if neigh_eval > prev_eval:\n",
    "                return x, y, neigh_eval\n",
    "            x, y = current_x, current_y\n",
    "    return current_x, current_y, prev_eval\n",
    "\n",
    "x, y = random.uniform(-2, 2), random.uniform(-2, 2)\n",
    "current_eval = evaluate(x, y)\n",
    "\n",
    "iterations = 200\n",
    "while iterations > 0:\n",
    "    x, y, current_eval = neighbor(x, y, current_eval)\n",
    "    iterations -= 1\n",
    "\n",
    "print(x, y, current_eval)\n"
   ]
  },
  {
   "cell_type": "markdown",
   "id": "875f30f9",
   "metadata": {},
   "source": [
    "𝒇(𝒙, 𝒚) = (𝟏 − 𝒙)𝟐 + 𝟏𝟎𝟎(𝒚 − 𝒙𝟐)𝟐\n",
    "\n"
   ]
  },
  {
   "cell_type": "code",
   "execution_count": 21,
   "id": "41794544",
   "metadata": {},
   "outputs": [
    {
     "name": "stdout",
     "output_type": "stream",
     "text": [
      "-0.011207789083784996 5.253915931451589 2761.23114379691\n"
     ]
    }
   ],
   "source": [
    "import random\n",
    "from math import e\n",
    "\n",
    "def evaluate(x, y):\n",
    "    return (1 - x**2) + 100 * (y - x**2)**2\n",
    "\n",
    "step = [-0.025, +0.025]\n",
    "\n",
    "def neighbor(x, y, prev_eval):\n",
    "    current_x, current_y = x, y\n",
    "    for i in range(2):\n",
    "        for value in step:\n",
    "            x += value if i == 0 else 0\n",
    "            y += value if i == 1 else 0\n",
    "            neigh_eval = evaluate(x, y)\n",
    "            if neigh_eval > prev_eval:\n",
    "                return x, y, neigh_eval\n",
    "            x, y = current_x, current_y\n",
    "    return current_x, current_y, prev_eval\n",
    "\n",
    "x, y = random.uniform(-2, 2), random.uniform(-2, 2)\n",
    "current_eval = evaluate(x, y)\n",
    "\n",
    "iterations = 200\n",
    "while iterations > 0:\n",
    "    x, y, current_eval = neighbor(x, y, current_eval)\n",
    "    iterations -= 1\n",
    "\n",
    "print(x, y, current_eval)\n"
   ]
  },
  {
   "cell_type": "markdown",
   "id": "ee649b79",
   "metadata": {},
   "source": [
    "Task 2:\n",
    "\n",
    "Implement an Hill climbing search for the 8 queen problem represented below. Using the solution\n",
    "representation shown in the figure below might reduce your solution space size.\n",
    "\n",
    "• Penalty of one queen: the number of queens she can check.\n",
    "\n",
    "• Penalty of a configuration: the sum of the penalties of all queens.\n",
    "\n",
    "• Note: penalty is to be minimized\n",
    "\n",
    "• Fitness of a configuration: inverse penalty to be maximized\n",
    "\n",
    "Your current execution might get stuck at a local optimum. Implement a random restart\n",
    "technique hill climbing variant to improve your results.\n",
    "\n"
   ]
  },
  {
   "cell_type": "code",
   "execution_count": 22,
   "id": "6112a8c7",
   "metadata": {},
   "outputs": [
    {
     "name": "stdout",
     "output_type": "stream",
     "text": [
      "Configuration: [7, 3, 2, 4, 6, 8, 5, 1]\n",
      "Penalty: 0\n"
     ]
    }
   ],
   "source": [
    "import random\n",
    "\n",
    "def evaluation(sol):\n",
    "    penalty = 0\n",
    "    for i in range(8):\n",
    "        for j in range(i+1, 8):\n",
    "            if abs(i - j) == abs(sol[i] - sol[j]):\n",
    "                penalty += 1\n",
    "    return penalty\n",
    "\n",
    "def neighbor(sol):\n",
    "    index = random.randint(0, 6)\n",
    "    index2 = index + 1\n",
    "    sol[index], sol[index2] = sol[index2], sol[index]\n",
    "    return sol\n",
    "\n",
    "def hill_climbing_with_restart():\n",
    "    max_iterations = 100\n",
    "    restarts = 10\n",
    "\n",
    "    best_sol = None\n",
    "    best_penalty = float('inf')\n",
    "\n",
    "    for _ in range(restarts):\n",
    "        sol = list(range(1, 9))\n",
    "        random.shuffle(sol)\n",
    "        current_penalty = evaluation(sol)\n",
    "\n",
    "        for _ in range(max_iterations):\n",
    "            neighbor_sol = neighbor(sol)\n",
    "            neighbor_penalty = evaluation(neighbor_sol)\n",
    "\n",
    "            if neighbor_penalty < current_penalty:\n",
    "                sol = neighbor_sol\n",
    "                current_penalty = neighbor_penalty\n",
    "\n",
    "        if current_penalty < best_penalty:\n",
    "            best_sol = sol\n",
    "            best_penalty = current_penalty\n",
    "\n",
    "    print(\"Configuration:\", best_sol)\n",
    "    print(\"Penalty:\", best_penalty)\n",
    "\n",
    "if __name__ == \"__main__\":\n",
    "    hill_climbing_with_restart()\n"
   ]
  }
 ],
 "metadata": {
  "kernelspec": {
   "display_name": "Python 3 (ipykernel)",
   "language": "python",
   "name": "python3"
  },
  "language_info": {
   "codemirror_mode": {
    "name": "ipython",
    "version": 3
   },
   "file_extension": ".py",
   "mimetype": "text/x-python",
   "name": "python",
   "nbconvert_exporter": "python",
   "pygments_lexer": "ipython3",
   "version": "3.11.5"
  }
 },
 "nbformat": 4,
 "nbformat_minor": 5
}
