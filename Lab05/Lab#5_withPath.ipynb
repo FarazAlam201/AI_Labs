{
 "cells": [
  {
   "cell_type": "code",
   "execution_count": 2,
   "id": "87edd6c1",
   "metadata": {},
   "outputs": [],
   "source": [
    "def evaluate(leaf_node, max_turn):\n",
    "    # Return the values of terminal nodes\n",
    "    if max_turn:\n",
    "        return max(leaf_node.values())\n",
    "    return min(leaf_node.values())"
   ]
  },
  {
   "cell_type": "code",
   "execution_count": 3,
   "id": "327295d2",
   "metadata": {},
   "outputs": [],
   "source": [
    "def minimax(node, depth, max_turn, path=[]):\n",
    "    if depth == 0 or not node:  # Base case: Reached maximum depth or terminal node\n",
    "        return evaluate(node, max_turn), path + [node]\n",
    "\n",
    "    if max_turn:\n",
    "        # Maximizer's turn\n",
    "        max_eval = float('-inf')\n",
    "        best_path = []\n",
    "        for child in node:\n",
    "            eval_child, child_path = minimax(graph[child], depth - 1, False, path + [child])\n",
    "            if eval_child > max_eval:\n",
    "                max_eval = eval_child\n",
    "                best_path = child_path\n",
    "        return max_eval, best_path\n",
    "    else:\n",
    "        # Minimizer's turn\n",
    "        min_eval = float('inf')\n",
    "        best_path = []\n",
    "        for child in node:\n",
    "            eval_child, child_path = minimax(graph[child], depth - 1, True, path + [child])\n",
    "            if eval_child < min_eval:\n",
    "                min_eval = eval_child\n",
    "                best_path = child_path\n",
    "        return min_eval, best_path"
   ]
  },
  {
   "cell_type": "code",
   "execution_count": 4,
   "id": "c7e06eb2",
   "metadata": {},
   "outputs": [
    {
     "name": "stdout",
     "output_type": "stream",
     "text": [
      "Optimal value for the Max player: 9\n",
      "Optimal path  for the Max player: ['C', 'F', 'M', {12: 9}]\n"
     ]
    }
   ],
   "source": [
    "# Initial call for the root node 'A'\n",
    "\n",
    "result, optimal_path = minimax(graph['A'], depth=3, max_turn=True)\n",
    "\n",
    "print(\"Optimal value for the Max player:\", result)\n",
    "print(\"Optimal path  for the Max player:\", optimal_path)"
   ]
  }
 ],
 "metadata": {
  "kernelspec": {
   "display_name": "Python 3 (ipykernel)",
   "language": "python",
   "name": "python3"
  },
  "language_info": {
   "codemirror_mode": {
    "name": "ipython",
    "version": 3
   },
   "file_extension": ".py",
   "mimetype": "text/x-python",
   "name": "python",
   "nbconvert_exporter": "python",
   "pygments_lexer": "ipython3",
   "version": "3.9.12"
  }
 },
 "nbformat": 4,
 "nbformat_minor": 5
}
