{
 "cells": [
  {
   "cell_type": "code",
   "execution_count": 1,
   "id": "89bb625a",
   "metadata": {},
   "outputs": [],
   "source": [
    "graph = {'A':{'B':None, 'C':None},\n",
    "        'B':{'D':None, 'E': None},\n",
    "        'C':{'F':None, 'G': None},\n",
    "        'D':{'H':None, 'I': None},\n",
    "        'E':{'J':None, 'K': None},\n",
    "        'F':{'L':None, 'M': None}, \n",
    "        'G':{'N':None, 'O': None, 'P':None},\n",
    "        'H':{1:8, 2:7},\n",
    "        'I':{3:9, 4:2, 5:11}, \n",
    "        'J':{6:8},\n",
    "        'K':{7:10, 8:3},\n",
    "        'L':{9:12, 10:4, 11:6},\n",
    "        'M':{12:9},\n",
    "        'N':{13:6},\n",
    "        'O':{14:14, 15:12},\n",
    "        'P':{16:20, 17:10, 18:2}}"
   ]
  },
  {
   "cell_type": "code",
   "execution_count": 2,
   "id": "95debc36",
   "metadata": {},
   "outputs": [],
   "source": [
    "def evaluate(leaf_node, max_turn):\n",
    "    # Return the values of terminal nodes\n",
    "    if max_turn:\n",
    "        return max(leaf_node.values())\n",
    "    return min(leaf_node.values())"
   ]
  },
  {
   "cell_type": "code",
   "execution_count": 3,
   "id": "51d58a48",
   "metadata": {},
   "outputs": [],
   "source": [
    "def minimax(node, depth, max_turn):\n",
    "    if depth == 0 or not node:  # Base case: Reached maximum depth or terminal node\n",
    "        return evaluate(node, max_turn)\n",
    "\n",
    "    if max_turn:\n",
    "        # Maximizer's turn\n",
    "        max_eval = float('-inf')#initialize the max player with -infinity\n",
    "        for child in node:\n",
    "            eval_child = minimax(graph[child], depth - 1, False) #recursive function calls, until the base case is reached.\n",
    "            max_eval = max(max_eval, eval_child) #if the new evaluation is better than previous one than update. \n",
    "        return max_eval\n",
    "    else:\n",
    "        # Minimizer's turn\n",
    "        min_eval = float('inf') #initiate the min player with +inifinity\n",
    "        for child in node:\n",
    "            eval_child = minimax(graph[child], depth - 1, True) #recursive function calls, until the base case is reached. \n",
    "            min_eval = min(min_eval, eval_child) #if the new evaluation is better than previous one than update. \n",
    "        return min_eval"
   ]
  },
  {
   "cell_type": "code",
   "execution_count": 6,
   "id": "8ac261ca",
   "metadata": {},
   "outputs": [
    {
     "name": "stdout",
     "output_type": "stream",
     "text": [
      "Optimal value for the Max player: 9\n"
     ]
    }
   ],
   "source": [
    "# Initial call for the root node 'A'\n",
    "result = minimax(graph['A'], depth=3, max_turn=True)\n",
    "print(\"Optimal value for the Max player:\", result)"
   ]
  }
 ],
 "metadata": {
  "kernelspec": {
   "display_name": "Python 3 (ipykernel)",
   "language": "python",
   "name": "python3"
  },
  "language_info": {
   "codemirror_mode": {
    "name": "ipython",
    "version": 3
   },
   "file_extension": ".py",
   "mimetype": "text/x-python",
   "name": "python",
   "nbconvert_exporter": "python",
   "pygments_lexer": "ipython3",
   "version": "3.9.12"
  }
 },
 "nbformat": 4,
 "nbformat_minor": 5
}
