{
 "cells": [
  {
   "cell_type": "code",
   "execution_count": 9,
   "id": "7cb38ca5",
   "metadata": {},
   "outputs": [
    {
     "name": "stdout",
     "output_type": "stream",
     "text": [
      "solution found\n",
      "['A', 'B', 'E']\n"
     ]
    }
   ],
   "source": [
    "## Breath-First search (BFS) ##\n",
    "graph = {\n",
    "    'A': ['B', 'D'],\n",
    "    'B': ['C', 'E'],\n",
    "    'C': [],\n",
    "    'D': ['E', 'G', 'H'],\n",
    "    'E': ['C', 'F'],\n",
    "    'F': [],\n",
    "    'G': ['H'],\n",
    "    'H': []\n",
    "}\n",
    "class node:\n",
    "    def __init__(self, state, parent, move, cost):\n",
    "        self.state = state\n",
    "        self.parent = parent\n",
    "        self.move = move\n",
    "        self.path_cost = cost\n",
    "queue = []\n",
    "initial_node='A'\n",
    "goal_node = 'F'\n",
    "state = node(initial_node, None, None, None)\n",
    "queue.append(state)\n",
    "path = []\n",
    "def print_path(node):\n",
    "    if node.parent:\n",
    "        path.append(node.parent.state)\n",
    "        node = node.parent\n",
    "        print_path(node)\n",
    "    return path\n",
    "while queue:\n",
    "    current_node = queue.pop(0)\n",
    "    if current_node.state == goal_node:\n",
    "        print('Solution found')\n",
    "        route = print_path(current_node)\n",
    "        print(route[::-1])\n",
    "        break\n",
    "    for neighbor in graph[current_node.state]:\n",
    "        state = node(neighbor, current_node, None, None)\n",
    "        queue.append(state)\n",
    "else:\n",
    "    print('Failure')"
   ]
  },
  {
   "cell_type": "code",
   "execution_count": 10,
   "id": "09b9f461",
   "metadata": {},
   "outputs": [
    {
     "name": "stdout",
     "output_type": "stream",
     "text": [
      "Solution found\n",
      "['F', 'E', 'D', 'A']\n"
     ]
    }
   ],
   "source": [
    "## Depth-First Search (DFS) ##\n",
    "graph = {\n",
    "    'A': ['B', 'D'],\n",
    "    'B': ['C', 'E'],\n",
    "    'C': [],\n",
    "    'D': ['E', 'G', 'H'],\n",
    "    'E': ['C', 'F'],\n",
    "    'F': [],\n",
    "    'G': ['H'],\n",
    "    'H': []\n",
    "}\n",
    "class Node:\n",
    "    def __init__(self, state, parent, move, cost):\n",
    "        self.state = state\n",
    "        self.parent = parent\n",
    "        self.move = move\n",
    "        self.path_cost = cost\n",
    "def print_path(node):\n",
    "    path = []\n",
    "    while node.parent:\n",
    "        path.append(node.state)\n",
    "        node = node.parent\n",
    "    path.append(node.state)\n",
    "    return path\n",
    "stack = []\n",
    "initial_node='A'\n",
    "goal_node = 'F'\n",
    "start_state = Node(initial_node, None, None, None)\n",
    "stack.append(start_state)\n",
    "while stack:\n",
    "    current_node = stack.pop()\n",
    "    if current_node.state == goal_node:\n",
    "        print('Solution found')\n",
    "        route = print_path(current_node)\n",
    "        print(route)\n",
    "        break\n",
    "\n",
    "    for neighbor in graph.get(current_node.state, []):\n",
    "        state = Node(neighbor, current_node, None, None)\n",
    "        stack.append(state)\n",
    "else:\n",
    "    print('Failure')"
   ]
  },
  {
   "cell_type": "code",
   "execution_count": null,
   "id": "6a609117",
   "metadata": {},
   "outputs": [],
   "source": []
  }
 ],
 "metadata": {
  "kernelspec": {
   "display_name": "Python 3 (ipykernel)",
   "language": "python",
   "name": "python3"
  },
  "language_info": {
   "codemirror_mode": {
    "name": "ipython",
    "version": 3
   },
   "file_extension": ".py",
   "mimetype": "text/x-python",
   "name": "python",
   "nbconvert_exporter": "python",
   "pygments_lexer": "ipython3",
   "version": "3.9.12"
  }
 },
 "nbformat": 4,
 "nbformat_minor": 5
}
