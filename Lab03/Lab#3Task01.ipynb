{
 "cells": [
  {
   "cell_type": "code",
   "execution_count": 9,
   "id": "642a5ae7",
   "metadata": {},
   "outputs": [
    {
     "name": "stdout",
     "output_type": "stream",
     "text": [
      "solution found\n",
      "['1', '4', '7']\n"
     ]
    }
   ],
   "source": [
    "## Breath-First search (BFS) ##\n",
    "graph = {\n",
    "        '1': ['2', '3', '4'],\n",
    "        '2': ['5', '6'],\n",
    "        '3':[],\n",
    "        '4': ['7', '8'],\n",
    "        '5': ['9', '10'],\n",
    "        '6':[],\n",
    "        '7': ['11', '12'],\n",
    "        '8':[],\n",
    "        '9':[],\n",
    "        '10':[],\n",
    "        '11':[],\n",
    "        '12':[]\n",
    "        }\n",
    "class node:\n",
    "    def __init__(self, state, parent, move, cost):\n",
    "        self.state = state\n",
    "        self.parent = parent\n",
    "        self.move = move\n",
    "        self.path_cost = cost\n",
    "queue = []\n",
    "state = node('1', None, None, None)\n",
    "goal_node = '11'\n",
    "queue.append(state)\n",
    "path = []\n",
    "def print_path(node):\n",
    "    if node.parent:\n",
    "        path.append(node.parent.state)\n",
    "        node = node.parent\n",
    "        print_path(node)\n",
    "    return path\n",
    "while queue:\n",
    "    current_node = queue.pop(0)\n",
    "    if current_node.state == goal_node:\n",
    "        print('solution found')\n",
    "        route = print_path(current_node)\n",
    "        print(route[::-1])\n",
    "        break\n",
    "    for neighbor in graph[current_node.state]:\n",
    "        state = node(neighbor, current_node, None, None)\n",
    "        queue.append(state)\n",
    "else:\n",
    "    print('failure')"
   ]
  },
  {
   "cell_type": "code",
   "execution_count": 10,
   "id": "1e6d79e9",
   "metadata": {},
   "outputs": [
    {
     "name": "stdout",
     "output_type": "stream",
     "text": [
      "Solution found\n",
      "['1', '4', '7', '11']\n"
     ]
    }
   ],
   "source": [
    "## Depth-First search (BFS) ##\n",
    "\n",
    "graph = { '1': ['2', '3', '4'],\n",
    "    '2': ['5', '6'],\n",
    "    '3':[],\n",
    "    '4': ['7', '8'],\n",
    "    '5': ['9', '10'],\n",
    "    '6':[],\n",
    "    '7': ['11', '12'],\n",
    "    '8':[],\n",
    "    '9':[],\n",
    "    '10':[],\n",
    "    '11':[],\n",
    "    '12':[] }\n",
    "class Node:\n",
    "    def __init__(self, state, parent, move, cost):\n",
    "        self.state = state\n",
    "        self.parent = parent\n",
    "        self.move = move\n",
    "        self.path_cost = cost\n",
    "stack = []\n",
    "start_state = Node('1', None, None, None)\n",
    "goal_state = '11'\n",
    "stack.append(start_state)\n",
    "path = []\n",
    "def print_path(node):\n",
    "    path = []\n",
    "    while node:\n",
    "        path.append(node.state)\n",
    "        node = node.parent\n",
    "    return path\n",
    "while stack:\n",
    "    current_node = stack.pop()\n",
    "    if current_node.state == goal_state:\n",
    "        print('Solution found')\n",
    "        route = print_path(current_node)\n",
    "        print(route[::-1])\n",
    "        break\n",
    "    for neighbor in graph[current_node.state]:\n",
    "        state = Node(neighbor, current_node, None, None)\n",
    "        stack.append(state)\n",
    "else:\n",
    "    print('Failure')"
   ]
  }
 ],
 "metadata": {
  "kernelspec": {
   "display_name": "Python 3 (ipykernel)",
   "language": "python",
   "name": "python3"
  },
  "language_info": {
   "codemirror_mode": {
    "name": "ipython",
    "version": 3
   },
   "file_extension": ".py",
   "mimetype": "text/x-python",
   "name": "python",
   "nbconvert_exporter": "python",
   "pygments_lexer": "ipython3",
   "version": "3.9.12"
  }
 },
 "nbformat": 4,
 "nbformat_minor": 5
}
